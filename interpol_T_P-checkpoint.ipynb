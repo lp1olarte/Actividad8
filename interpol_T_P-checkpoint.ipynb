{
 "cells": [
  {
   "cell_type": "code",
   "execution_count": 1,
   "id": "dd5ea923-2fb1-4138-8845-d07a31ff3b7f",
   "metadata": {},
   "outputs": [],
   "source": [
    "import numpy as np\n",
    "import matplotlib.pyplot as plt\n",
    "import pandas as pd\n",
    "import sympy as sp"
   ]
  },
  {
   "cell_type": "markdown",
   "id": "4f578c07-dcdc-4a95-8c25-209797d4345e",
   "metadata": {},
   "source": [
    "# 0. Datos de entrada en formato de texto o csv."
   ]
  },
  {
   "cell_type": "code",
   "execution_count": 2,
   "id": "c2013e7e-9938-4e11-97b0-5b37abd2c58d",
   "metadata": {},
   "outputs": [
    {
     "data": {
      "text/html": [
       "<div>\n",
       "<style scoped>\n",
       "    .dataframe tbody tr th:only-of-type {\n",
       "        vertical-align: middle;\n",
       "    }\n",
       "\n",
       "    .dataframe tbody tr th {\n",
       "        vertical-align: top;\n",
       "    }\n",
       "\n",
       "    .dataframe thead th {\n",
       "        text-align: right;\n",
       "    }\n",
       "</style>\n",
       "<table border=\"1\" class=\"dataframe\">\n",
       "  <thead>\n",
       "    <tr style=\"text-align: right;\">\n",
       "      <th></th>\n",
       "      <th>T</th>\n",
       "      <th>P</th>\n",
       "      <th>vf</th>\n",
       "      <th>vg</th>\n",
       "      <th>uf</th>\n",
       "      <th>ufg</th>\n",
       "      <th>ug</th>\n",
       "      <th>hf</th>\n",
       "      <th>hfg</th>\n",
       "      <th>hg</th>\n",
       "      <th>sf</th>\n",
       "      <th>sfg</th>\n",
       "      <th>sg</th>\n",
       "    </tr>\n",
       "  </thead>\n",
       "  <tbody>\n",
       "    <tr>\n",
       "      <th>0</th>\n",
       "      <td>0.01</td>\n",
       "      <td>0.6117</td>\n",
       "      <td>0.001000</td>\n",
       "      <td>206.000000</td>\n",
       "      <td>0.000</td>\n",
       "      <td>2374.9</td>\n",
       "      <td>2374.9</td>\n",
       "      <td>0.001</td>\n",
       "      <td>2500.9</td>\n",
       "      <td>2500.9</td>\n",
       "      <td>0.0000</td>\n",
       "      <td>9.1556</td>\n",
       "      <td>9.1556</td>\n",
       "    </tr>\n",
       "    <tr>\n",
       "      <th>1</th>\n",
       "      <td>5.00</td>\n",
       "      <td>0.8725</td>\n",
       "      <td>0.001000</td>\n",
       "      <td>147.030000</td>\n",
       "      <td>21.019</td>\n",
       "      <td>2360.8</td>\n",
       "      <td>2381.8</td>\n",
       "      <td>21.020</td>\n",
       "      <td>2489.1</td>\n",
       "      <td>2510.1</td>\n",
       "      <td>0.0763</td>\n",
       "      <td>8.9487</td>\n",
       "      <td>9.0249</td>\n",
       "    </tr>\n",
       "    <tr>\n",
       "      <th>2</th>\n",
       "      <td>10.00</td>\n",
       "      <td>1.2281</td>\n",
       "      <td>0.001000</td>\n",
       "      <td>106.320000</td>\n",
       "      <td>42.020</td>\n",
       "      <td>2346.6</td>\n",
       "      <td>2388.7</td>\n",
       "      <td>42.022</td>\n",
       "      <td>2477.2</td>\n",
       "      <td>2519.2</td>\n",
       "      <td>0.1511</td>\n",
       "      <td>8.7488</td>\n",
       "      <td>8.8999</td>\n",
       "    </tr>\n",
       "    <tr>\n",
       "      <th>3</th>\n",
       "      <td>15.00</td>\n",
       "      <td>1.7057</td>\n",
       "      <td>0.001001</td>\n",
       "      <td>77.885000</td>\n",
       "      <td>62.980</td>\n",
       "      <td>2332.5</td>\n",
       "      <td>2395.5</td>\n",
       "      <td>62.982</td>\n",
       "      <td>2465.4</td>\n",
       "      <td>2528.3</td>\n",
       "      <td>0.2245</td>\n",
       "      <td>8.5559</td>\n",
       "      <td>8.7803</td>\n",
       "    </tr>\n",
       "    <tr>\n",
       "      <th>4</th>\n",
       "      <td>20.00</td>\n",
       "      <td>2.3392</td>\n",
       "      <td>0.001002</td>\n",
       "      <td>57.762000</td>\n",
       "      <td>83.913</td>\n",
       "      <td>2318.4</td>\n",
       "      <td>2402.3</td>\n",
       "      <td>83.915</td>\n",
       "      <td>2453.5</td>\n",
       "      <td>2537.4</td>\n",
       "      <td>0.2965</td>\n",
       "      <td>8.3696</td>\n",
       "      <td>8.6661</td>\n",
       "    </tr>\n",
       "    <tr>\n",
       "      <th>...</th>\n",
       "      <td>...</td>\n",
       "      <td>...</td>\n",
       "      <td>...</td>\n",
       "      <td>...</td>\n",
       "      <td>...</td>\n",
       "      <td>...</td>\n",
       "      <td>...</td>\n",
       "      <td>...</td>\n",
       "      <td>...</td>\n",
       "      <td>...</td>\n",
       "      <td>...</td>\n",
       "      <td>...</td>\n",
       "      <td>...</td>\n",
       "    </tr>\n",
       "    <tr>\n",
       "      <th>71</th>\n",
       "      <td>355.00</td>\n",
       "      <td>17570.0000</td>\n",
       "      <td>0.001808</td>\n",
       "      <td>0.007872</td>\n",
       "      <td>1682.200</td>\n",
       "      <td>706.4</td>\n",
       "      <td>2388.6</td>\n",
       "      <td>1714.000</td>\n",
       "      <td>812.9</td>\n",
       "      <td>2526.9</td>\n",
       "      <td>3.8442</td>\n",
       "      <td>1.2942</td>\n",
       "      <td>5.1384</td>\n",
       "    </tr>\n",
       "    <tr>\n",
       "      <th>72</th>\n",
       "      <td>360.00</td>\n",
       "      <td>18666.0000</td>\n",
       "      <td>0.001895</td>\n",
       "      <td>0.006950</td>\n",
       "      <td>1726.200</td>\n",
       "      <td>625.7</td>\n",
       "      <td>2351.9</td>\n",
       "      <td>1761.500</td>\n",
       "      <td>720.1</td>\n",
       "      <td>2481.6</td>\n",
       "      <td>3.9165</td>\n",
       "      <td>1.1373</td>\n",
       "      <td>5.0537</td>\n",
       "    </tr>\n",
       "    <tr>\n",
       "      <th>73</th>\n",
       "      <td>365.00</td>\n",
       "      <td>19822.0000</td>\n",
       "      <td>0.002015</td>\n",
       "      <td>0.006009</td>\n",
       "      <td>1777.200</td>\n",
       "      <td>526.4</td>\n",
       "      <td>2303.6</td>\n",
       "      <td>1817.200</td>\n",
       "      <td>605.5</td>\n",
       "      <td>2422.7</td>\n",
       "      <td>4.0004</td>\n",
       "      <td>0.9489</td>\n",
       "      <td>4.9493</td>\n",
       "    </tr>\n",
       "    <tr>\n",
       "      <th>74</th>\n",
       "      <td>370.00</td>\n",
       "      <td>21044.0000</td>\n",
       "      <td>0.002217</td>\n",
       "      <td>0.004953</td>\n",
       "      <td>1844.500</td>\n",
       "      <td>385.6</td>\n",
       "      <td>2230.1</td>\n",
       "      <td>1891.200</td>\n",
       "      <td>443.1</td>\n",
       "      <td>2334.3</td>\n",
       "      <td>4.1119</td>\n",
       "      <td>0.6890</td>\n",
       "      <td>4.8009</td>\n",
       "    </tr>\n",
       "    <tr>\n",
       "      <th>75</th>\n",
       "      <td>373.95</td>\n",
       "      <td>22064.0000</td>\n",
       "      <td>0.003106</td>\n",
       "      <td>0.003106</td>\n",
       "      <td>2015.700</td>\n",
       "      <td>0.0</td>\n",
       "      <td>2015.7</td>\n",
       "      <td>2084.300</td>\n",
       "      <td>0.0</td>\n",
       "      <td>2084.3</td>\n",
       "      <td>4.4070</td>\n",
       "      <td>0.0000</td>\n",
       "      <td>4.4070</td>\n",
       "    </tr>\n",
       "  </tbody>\n",
       "</table>\n",
       "<p>76 rows × 13 columns</p>\n",
       "</div>"
      ],
      "text/plain": [
       "         T           P        vf          vg        uf     ufg      ug  \\\n",
       "0     0.01      0.6117  0.001000  206.000000     0.000  2374.9  2374.9   \n",
       "1     5.00      0.8725  0.001000  147.030000    21.019  2360.8  2381.8   \n",
       "2    10.00      1.2281  0.001000  106.320000    42.020  2346.6  2388.7   \n",
       "3    15.00      1.7057  0.001001   77.885000    62.980  2332.5  2395.5   \n",
       "4    20.00      2.3392  0.001002   57.762000    83.913  2318.4  2402.3   \n",
       "..     ...         ...       ...         ...       ...     ...     ...   \n",
       "71  355.00  17570.0000  0.001808    0.007872  1682.200   706.4  2388.6   \n",
       "72  360.00  18666.0000  0.001895    0.006950  1726.200   625.7  2351.9   \n",
       "73  365.00  19822.0000  0.002015    0.006009  1777.200   526.4  2303.6   \n",
       "74  370.00  21044.0000  0.002217    0.004953  1844.500   385.6  2230.1   \n",
       "75  373.95  22064.0000  0.003106    0.003106  2015.700     0.0  2015.7   \n",
       "\n",
       "          hf     hfg      hg      sf     sfg      sg  \n",
       "0      0.001  2500.9  2500.9  0.0000  9.1556  9.1556  \n",
       "1     21.020  2489.1  2510.1  0.0763  8.9487  9.0249  \n",
       "2     42.022  2477.2  2519.2  0.1511  8.7488  8.8999  \n",
       "3     62.982  2465.4  2528.3  0.2245  8.5559  8.7803  \n",
       "4     83.915  2453.5  2537.4  0.2965  8.3696  8.6661  \n",
       "..       ...     ...     ...     ...     ...     ...  \n",
       "71  1714.000   812.9  2526.9  3.8442  1.2942  5.1384  \n",
       "72  1761.500   720.1  2481.6  3.9165  1.1373  5.0537  \n",
       "73  1817.200   605.5  2422.7  4.0004  0.9489  4.9493  \n",
       "74  1891.200   443.1  2334.3  4.1119  0.6890  4.8009  \n",
       "75  2084.300     0.0  2084.3  4.4070  0.0000  4.4070  \n",
       "\n",
       "[76 rows x 13 columns]"
      ]
     },
     "execution_count": 2,
     "metadata": {},
     "output_type": "execute_result"
    }
   ],
   "source": [
    "data = pd.read_csv(\"table.csv\")\n",
    "data"
   ]
  },
  {
   "cell_type": "markdown",
   "id": "af3bbea5-82ec-498f-9ee4-6a3519d1abb6",
   "metadata": {},
   "source": [
    "# 1. A manera de ejemplo, tomaremos 3 puntos y hallaremos el polinomio de Lagrange asociado a dichos puntos (P vs T). Así mismo hallaremos el polinomio asociado por sympy. +10 puntos."
   ]
  },
  {
   "cell_type": "code",
   "execution_count": 3,
   "id": "12140964-ae8d-4cbd-9071-d4fcf38b2d86",
   "metadata": {},
   "outputs": [],
   "source": [
    "x = sp.Symbol(\"x\")\n",
    "x_data = data[\"T\"][:3].values\n",
    "y_data = data[\"P\"][:3].values"
   ]
  },
  {
   "cell_type": "code",
   "execution_count": 4,
   "id": "1efbf791-5e7f-43f9-b5e6-b6dafa7df13d",
   "metadata": {},
   "outputs": [
    {
     "name": "stdout",
     "output_type": "stream",
     "text": [
      "Polinomio 3 primeros puntos P vs T:  0.00188743452871709*x**2 + 0.0428084820692436*x + 0.611271726435855\n"
     ]
    }
   ],
   "source": [
    "poly = sp.polys.polyfuncs.interpolating_poly(3,x,X=x_data,Y=y_data).simplify()\n",
    "print(\"Polinomio 3 primeros puntos P vs T: \",poly)"
   ]
  },
  {
   "cell_type": "markdown",
   "id": "364091f8-1b74-4a24-b6a4-844844b49327",
   "metadata": {},
   "source": [
    "# 2. Tabla Interpolación de P vs T, utilizando valores intermedios de temperatura. Para esto generalice el programa del punto 1. +15"
   ]
  },
  {
   "cell_type": "markdown",
   "id": "fe70dfc4-e7d1-4a5c-92fc-19b6998298a1",
   "metadata": {},
   "source": [
    "# 3. Tabla Interpolación de sg vs T.+5"
   ]
  },
  {
   "cell_type": "markdown",
   "id": "a57d1e34-a393-4694-a748-d0877b750059",
   "metadata": {},
   "source": [
    "# 4. Tabla Interpolación de sf vs T.+5"
   ]
  },
  {
   "cell_type": "code",
   "execution_count": 5,
   "id": "b700b7aa-0f84-4d13-a239-9cbb2469e42a",
   "metadata": {},
   "outputs": [],
   "source": [
    "def interpolation_table(x_var,y_var,dx=1e-2):\n",
    "    x = sp.Symbol(\"x\")\n",
    "    x_table = []\n",
    "    y_table = []\n",
    "    i = 0\n",
    "    while i < len(data)-1:\n",
    "        j = 3 if i+3 < len(data) else 2\n",
    "        x_data = data[x_var][i:i+j].values\n",
    "        y_data = data[y_var][i:i+j].values\n",
    "        poly = sp.polys.polyfuncs.interpolating_poly(j,x,X=x_data,Y=y_data)\n",
    "        f = sp.lambdify(x,poly)\n",
    "        x_table.append(np.arange(min(x_data),max(x_data),dx))\n",
    "        y_table.append(f(x_table[-1]))\n",
    "        \n",
    "        i+=j-1\n",
    "    \n",
    "    x_table = np.concatenate(x_table)\n",
    "    y_table = np.concatenate(y_table)\n",
    "    return np.array([x_table,y_table]).T"
   ]
  },
  {
   "cell_type": "code",
   "execution_count": 6,
   "id": "b49fa12b-89ab-412d-b6a9-de88e8a57a61",
   "metadata": {},
   "outputs": [
    {
     "name": "stdout",
     "output_type": "stream",
     "text": [
      "guardada tabla interpolación PvsT.dat\n",
      "guardada tabla interpolación sgvsT.dat\n",
      "guardada tabla interpolación sfvsT.dat\n"
     ]
    }
   ],
   "source": [
    "for var in [\"P\",\"sg\",\"sf\"]:\n",
    "    table = interpolation_table(\"T\",var)\n",
    "    np.savetxt(f\"{var}vsT.dat\",table,fmt='%.10f')\n",
    "    print(f\"guardada tabla interpolación {var}vsT.dat\")"
   ]
  },
  {
   "cell_type": "markdown",
   "id": "33627142-47b5-4292-968f-35db20b77bef",
   "metadata": {},
   "source": [
    "# 5. Gráficas en formato png. Los ejes deben aparecer debidamente identificados y el tamaño de las etiquetas debe ser visible. +10"
   ]
  },
  {
   "cell_type": "code",
   "execution_count": 7,
   "id": "3250695b-94df-446b-add5-ba7f5cedbc38",
   "metadata": {
    "tags": []
   },
   "outputs": [
    {
     "name": "stdout",
     "output_type": "stream",
     "text": [
      "guardado PvsT.png\n",
      "guardado sgvsT.png\n",
      "guardado sfvsT.png\n"
     ]
    }
   ],
   "source": [
    "for var in [\"P\",\"sg\",\"sf\"]:\n",
    "    table = np.loadtxt(f\"{var}vsT.dat\")\n",
    "    plt.figure(dpi=150)\n",
    "    plt.plot(*table.T,label=\"interpolation\")\n",
    "    plt.scatter(data[\"T\"],data[var],s=10,c='k',label=\"data\")\n",
    "    plt.ylabel(var,fontsize=15)\n",
    "    plt.xlabel(\"T\",fontsize=15)\n",
    "    plt.legend()\n",
    "    plt.tight_layout()\n",
    "    plt.savefig(f\"{var}vsT.png\")\n",
    "    plt.close()\n",
    "    print(f\"guardado {var}vsT.png\")"
   ]
  },
  {
   "cell_type": "markdown",
   "id": "9dc3027e-850f-43d5-8480-ce33cc0ee146",
   "metadata": {},
   "source": [
    "# 6. Análisis de resultados y conclusiones. +5"
   ]
  },
  {
   "cell_type": "markdown",
   "id": "95833696-6d9a-452b-b4f8-3dad549c742b",
   "metadata": {},
   "source": [
    "Se hicieron tablas de interpolación polinomial de orden 3 para tres varaibles (P, sg, sf) con respecto a la temperatura, obteniendo una gráfica suave.\n",
    "\n",
    "Los polinomios de Lagrange fueron obtenidos con sympy, y luego evaluados en puntos intermedios con una resolución de temperatura de 1e-2.\n",
    "\n",
    "Todo este trabajo se hubiera podido hacer mucho más fácilmente con scipy.interpolate.interp1d"
   ]
  }
 ],
 "metadata": {
  "kernelspec": {
   "display_name": "Python 3 (ipykernel)",
   "language": "python",
   "name": "python3"
  },
  "language_info": {
   "codemirror_mode": {
    "name": "ipython",
    "version": 3
   },
   "file_extension": ".py",
   "mimetype": "text/x-python",
   "name": "python",
   "nbconvert_exporter": "python",
   "pygments_lexer": "ipython3",
   "version": "3.10.4"
  }
 },
 "nbformat": 4,
 "nbformat_minor": 5
}
